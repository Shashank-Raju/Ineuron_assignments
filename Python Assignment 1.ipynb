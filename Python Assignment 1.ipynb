{
 "cells": [
  {
   "cell_type": "markdown",
   "metadata": {},
   "source": [
    "# Python Assignment 1"
   ]
  },
  {
   "cell_type": "markdown",
   "metadata": {},
   "source": [
    "1. Write a program which will find all such numbers which are divisible by 7 but are not a \n",
    "multiple of 5, between 2000 and 3200 (both included). The numbers obtained should be printed\n",
    "in a comma-separated sequence on a single line."
   ]
  },
  {
   "cell_type": "code",
   "execution_count": null,
   "metadata": {},
   "outputs": [],
   "source": [
    "# Selecting the Range if elements from 2000 - 3000\n",
    "for i in range(2000,3001):\n",
    "# Checking the Condition\n",
    "    if i % 7 == 0 and i % 5 !=0:\n",
    "        print(\"{},\".format(i),end = \"\")"
   ]
  },
  {
   "cell_type": "markdown",
   "metadata": {},
   "source": [
    "2. Write a Python program to accept the user's first and last name and then getting them\n",
    "printed in the the reverse order with a space between first name and last name."
   ]
  },
  {
   "cell_type": "code",
   "execution_count": null,
   "metadata": {},
   "outputs": [],
   "source": [
    "# Giving the full name \n",
    "name = input(\"Enter The Full Name Like First Name and Last Name \")\n",
    "name = name.split()\n",
    "\n",
    "# printing the name in reverse Order\n",
    "print(\"{} {}\".format(name[1],name[0]))"
   ]
  },
  {
   "cell_type": "markdown",
   "metadata": {},
   "source": [
    "3. Write a Python program to find the volume of a sphere with diameter 12 cm."
   ]
  },
  {
   "cell_type": "code",
   "execution_count": null,
   "metadata": {},
   "outputs": [],
   "source": [
    "#Importing math Module  \n",
    "import math\n",
    "\n",
    "Diameter = 12 \n",
    "# Caluclating the radius using diameter where dia = 2(Radius)\n",
    "Radius = Diameter/2\n",
    "# Caluclating the volume using the given Formula\n",
    "volume = (4*(Radius**3)*math.pi)/3\n",
    "# Printing the volume\n",
    "print('Volume = {}'.format(volume))"
   ]
  }
 ],
 "metadata": {
  "kernelspec": {
   "display_name": "Python 3",
   "language": "python",
   "name": "python3"
  },
  "language_info": {
   "codemirror_mode": {
    "name": "ipython",
    "version": 3
   },
   "file_extension": ".py",
   "mimetype": "text/x-python",
   "name": "python",
   "nbconvert_exporter": "python",
   "pygments_lexer": "ipython3",
   "version": "3.8.5"
  }
 },
 "nbformat": 4,
 "nbformat_minor": 4
}
