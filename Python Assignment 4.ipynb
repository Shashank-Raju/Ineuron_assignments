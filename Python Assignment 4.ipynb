{
 "cells": [
  {
   "cell_type": "markdown",
   "metadata": {},
   "source": [
    "# Python Assignment 4"
   ]
  },
  {
   "cell_type": "markdown",
   "metadata": {},
   "source": [
    "1.1 Write a Python Program(with class concepts) to find the area of the triangle using the below\n",
    "formula.\n",
    "area = (s*(s-a)*(s-b)*(s-c)) ***0.5"
   ]
  },
  {
   "cell_type": "markdown",
   "metadata": {},
   "source": [
    "Function to take the length of the sides of triangle from user should be defined in the parent\n",
    "class and function to calculate the area should be defined in subclass."
   ]
  },
  {
   "cell_type": "code",
   "execution_count": null,
   "metadata": {},
   "outputs": [],
   "source": [
    "class Triangle:\n",
    "    def __init__(self,side_a,side_b,side_c):\n",
    "        self.side_a = side_a\n",
    "        self.side_b = side_b\n",
    "        self.side_c = side_c\n",
    "    "
   ]
  },
  {
   "cell_type": "code",
   "execution_count": null,
   "metadata": {},
   "outputs": [],
   "source": [
    "def area(side_a,side_b,side_c):\n",
    "        s = (side_a + side_b + side_c) / 2\n",
    "        area = (s*(s-side_a)*(s-side_b)*(s-side_c))** 0.5\n",
    "        return area\n",
    "\n",
    "side_a = float(input(\"Enter the lenght of side a \"))\n",
    "side_b = float(input(\"Enter the lenght of side b \"))\n",
    "side_c = float(input(\"Enter the lenght of side c \"))\n",
    "triangle = Triangle(side_a,side_b,side_c)\n",
    "area = area(triangle.side_a,triangle.side_b,triangle.side_c)\n",
    "print(area)"
   ]
  },
  {
   "cell_type": "markdown",
   "metadata": {},
   "source": [
    "1.2 Write a function filter_long_words() that takes a list of words and an integer n and returns\n",
    "the list of words that are longer than n."
   ]
  },
  {
   "cell_type": "code",
   "execution_count": null,
   "metadata": {},
   "outputs": [],
   "source": [
    "def filter_long_words(words,length):\n",
    "    lis = []\n",
    "    for item in words:\n",
    "        if(len(item)>length):  # we need words longer than lenght so we have to check for greater only instead greater and equal\n",
    "            lis.append(item)\n",
    "    return lis\n",
    "\n",
    "words = ['function','filter_long_words','that','takes', 'list' ,'of', 'words']\n",
    "length = 4 \n",
    "#sample values were passed\n",
    "\n",
    "print(filter_long_words(words,length))"
   ]
  },
  {
   "cell_type": "markdown",
   "metadata": {},
   "source": [
    "2.1 Write a Python program using function concept that maps list of words into a list of integers\n",
    "representing the lengths of the corresponding words.\n",
    "\n",
    "Hint: If a list [ ab,cde,erty] is passed on to the python function output should come as [2,3,4]\n",
    "Here 2,3 and 4 are the lengths of the words in the list."
   ]
  },
  {
   "cell_type": "code",
   "execution_count": null,
   "metadata": {},
   "outputs": [],
   "source": [
    "def my_map(user_list):\n",
    "    lengths = []\n",
    "    for item in user_list:\n",
    "        lengths.append(len(item))\n",
    "    return lengths\n",
    "\n",
    "words = ['function','filter_long_words','that','takes', 'list' ,'of', 'words']\n",
    "lenghts = my_map(words)\n",
    "print(lenghts)"
   ]
  },
  {
   "cell_type": "markdown",
   "metadata": {},
   "source": [
    "2.2 Write a Python function which takes a character (i.e. a string of length 1) and returns True if\n",
    "it is a vowel, False otherwise."
   ]
  },
  {
   "cell_type": "code",
   "execution_count": null,
   "metadata": {},
   "outputs": [],
   "source": [
    "def is_vowel(char):\n",
    "    vowels = ['a','i','e','o','u','A','E','I','O','U']\n",
    "    if(char in vowels):\n",
    "        return True\n",
    "    else:\n",
    "        return False\n",
    "    \n",
    "test = 'A'\n",
    "#pass any vowel in any case \n",
    "\n",
    "print(is_vowel(test))"
   ]
  }
 ],
 "metadata": {
  "kernelspec": {
   "display_name": "Python 3",
   "language": "python",
   "name": "python3"
  },
  "language_info": {
   "codemirror_mode": {
    "name": "ipython",
    "version": 3
   },
   "file_extension": ".py",
   "mimetype": "text/x-python",
   "name": "python",
   "nbconvert_exporter": "python",
   "pygments_lexer": "ipython3",
   "version": "3.8.5"
  }
 },
 "nbformat": 4,
 "nbformat_minor": 4
}
