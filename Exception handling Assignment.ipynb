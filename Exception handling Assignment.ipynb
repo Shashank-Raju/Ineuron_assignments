{
 "cells": [
  {
   "cell_type": "markdown",
   "metadata": {},
   "source": [
    "# Exception handling Assignment"
   ]
  },
  {
   "cell_type": "markdown",
   "metadata": {},
   "source": [
    "1. Write a function to compute 5/0 and use try/except to catch the exceptions."
   ]
  },
  {
   "cell_type": "code",
   "execution_count": null,
   "metadata": {},
   "outputs": [],
   "source": [
    "def division(a,b):\n",
    "    try:\n",
    "        c = a/b\n",
    "    except ZeroDivisionError:\n",
    "        return 'Zero Division Error'\n",
    "    else:\n",
    "        return a/b\n",
    "\n",
    "c = division(2,0)\n",
    "print(c)"
   ]
  },
  {
   "cell_type": "markdown",
   "metadata": {},
   "source": [
    "2. Implement a Python program to generate all sentences where subject is in\n",
    "[\"Americans\", \"Indians\"] and verb is in [\"Play\", \"watch\"] and the object is in\n",
    "[\"Baseball\",\"cricket\"]."
   ]
  },
  {
   "cell_type": "code",
   "execution_count": null,
   "metadata": {},
   "outputs": [],
   "source": [
    "subjects = [\"Americans\", \"Indians\"]\n",
    "verbs = [\"Play\", \"watch\"]\n",
    "objects = [\"Baseball\",\"cricket\"]\n",
    "\n",
    "for sub in subjects:\n",
    "    for ver in verbs:\n",
    "        for obj in objects:\n",
    "            print(sub+' '+ver+' '+obj)\n"
   ]
  }
 ],
 "metadata": {
  "kernelspec": {
   "display_name": "Python 3",
   "language": "python",
   "name": "python3"
  },
  "language_info": {
   "codemirror_mode": {
    "name": "ipython",
    "version": 3
   },
   "file_extension": ".py",
   "mimetype": "text/x-python",
   "name": "python",
   "nbconvert_exporter": "python",
   "pygments_lexer": "ipython3",
   "version": "3.8.5"
  }
 },
 "nbformat": 4,
 "nbformat_minor": 4
}
