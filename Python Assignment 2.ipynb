{
 "cells": [
  {
   "cell_type": "markdown",
   "metadata": {},
   "source": [
    "# Python Assignment 2"
   ]
  },
  {
   "cell_type": "markdown",
   "metadata": {},
   "source": [
    "1. Create the below pattern using nested for loop in Python.\n",
    "*\n",
    "* *\n",
    "* * *\n",
    "* * * *\n",
    "* * *\n",
    "* *\n",
    "*"
   ]
  },
  {
   "cell_type": "code",
   "execution_count": null,
   "metadata": {},
   "outputs": [],
   "source": [
    "# Length of pattern\n",
    "len = 4\n",
    "count = 0\n",
    "# Printing Upper Half of the Pattern\n",
    "for i in range(len):\n",
    "    count +=1\n",
    "    for j in range(count):\n",
    "        print(\"* \",end = \"\")\n",
    "    print(\"\")\n",
    "# Printing Lower half of the pattern\n",
    "for i in range(len-1):\n",
    "    count -=1\n",
    "    for j in range(count):\n",
    "        print(\"* \",end = \"\")\n",
    "    print(\"\")\n",
    "    \n",
    "    "
   ]
  },
  {
   "cell_type": "markdown",
   "metadata": {},
   "source": [
    "2. Write a Python program to reverse a word after accepting the input from the user.\n",
    "\n",
    "Sample Output\n",
    "\n",
    "Input word: ineuron\n",
    "Output: norueni"
   ]
  },
  {
   "cell_type": "code",
   "execution_count": null,
   "metadata": {},
   "outputs": [],
   "source": [
    "# Reading user input\n",
    "string = input(\"Enter The Word\")\n",
    "# Printing the Input in Reverse order\n",
    "print(string[::-1])"
   ]
  }
 ],
 "metadata": {
  "kernelspec": {
   "display_name": "Python 3",
   "language": "python",
   "name": "python3"
  },
  "language_info": {
   "codemirror_mode": {
    "name": "ipython",
    "version": 3
   },
   "file_extension": ".py",
   "mimetype": "text/x-python",
   "name": "python",
   "nbconvert_exporter": "python",
   "pygments_lexer": "ipython3",
   "version": "3.8.5"
  }
 },
 "nbformat": 4,
 "nbformat_minor": 4
}
